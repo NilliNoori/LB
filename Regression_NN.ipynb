{
  "cells": [
    {
      "cell_type": "code",
      "execution_count": 22,
      "id": "fmbK0NOMCRqe",
      "metadata": {
        "colab": {
          "base_uri": "https://localhost:8080/"
        },
        "id": "fmbK0NOMCRqe",
        "outputId": "dccacf2c-9282-4f15-946b-1294566e89d1"
      },
      "outputs": [
        {
          "output_type": "stream",
          "name": "stdout",
          "text": [
            "Train X shape: (170772, 177), Train y shape: (170772, 1)\n",
            "Test X shape: (42694, 177), Test y shape: (42694, 1)\n"
          ]
        }
      ],
      "source": [
        "import pandas as pd\n",
        "import numpy as np\n",
        "from sklearn.preprocessing import StandardScaler\n",
        "from tensorflow.keras.models import Sequential\n",
        "from tensorflow.keras.layers import Dense, Dropout, Input\n",
        "from tensorflow.keras.optimizers import Adam\n",
        "from tensorflow.keras.losses import Huber\n",
        "from tensorflow.keras.callbacks import EarlyStopping\n",
        "import matplotlib.pyplot as plt\n",
        "from sklearn.metrics import mean_squared_error, r2_score\n",
        "from math import sqrt\n",
        "\n",
        "# 1. Data Voorbereiding\n",
        "# Laad de data\n",
        "X_train = pd.read_csv('alle_kranten_X_train.csv')  # Laad trainingskenmerken\n",
        "X_test = pd.read_csv('alle_kranten_X_test.csv')    # Laad testkenmerken\n",
        "y_train = pd.read_csv('alle_kranten_y_train.csv')  # Laad trainingsdoelvariabele\n",
        "y_test = pd.read_csv('alle_kranten_y_test.csv')    # Laad testdoelvariabele\n",
        "\n",
        "# Controleer data\n",
        "print(f\"Train X shape: {X_train.shape}, Train y shape: {y_train.shape}\")\n",
        "print(f\"Test X shape: {X_test.shape}, Test y shape: {y_test.shape}\")\n"
      ]
    },
    {
      "cell_type": "code",
      "execution_count": 23,
      "id": "1rR605clCVvU",
      "metadata": {
        "id": "1rR605clCVvU"
      },
      "outputs": [],
      "source": [
        "# Log-transformatie van de doelvariabele\n",
        "y_train_log = np.log1p(y_train.squeeze())  # Log-transformatie\n",
        "y_test_log = np.log1p(y_test.squeeze())    # Log-transformatie\n",
        "\n",
        "# Schaal de kenmerken (X)\n",
        "scaler_X = StandardScaler()\n",
        "X_train_scaled = scaler_X.fit_transform(X_train)\n",
        "X_test_scaled = scaler_X.transform(X_test)\n"
      ]
    },
    {
      "cell_type": "code",
      "execution_count": 31,
      "id": "Mjd8V1RtDyUq",
      "metadata": {
        "colab": {
          "base_uri": "https://localhost:8080/"
        },
        "id": "Mjd8V1RtDyUq",
        "outputId": "562c1a3f-06c2-4fba-ae3e-1c47143902bc"
      },
      "outputs": [
        {
          "output_type": "stream",
          "name": "stdout",
          "text": [
            "Epoch 1/50\n",
            "\u001b[1m5337/5337\u001b[0m \u001b[32m━━━━━━━━━━━━━━━━━━━━\u001b[0m\u001b[37m\u001b[0m \u001b[1m56s\u001b[0m 9ms/step - loss: 0.2437 - mae: 0.5462 - mse: 0.6646 - val_loss: 0.1678 - val_mae: 0.4378 - val_mse: 0.3684\n",
            "Epoch 2/50\n",
            "\u001b[1m5337/5337\u001b[0m \u001b[32m━━━━━━━━━━━━━━━━━━━━\u001b[0m\u001b[37m\u001b[0m \u001b[1m44s\u001b[0m 8ms/step - loss: 0.1698 - mae: 0.4420 - mse: 0.3747 - val_loss: 0.1670 - val_mae: 0.4392 - val_mse: 0.3663\n",
            "Epoch 3/50\n",
            "\u001b[1m5337/5337\u001b[0m \u001b[32m━━━━━━━━━━━━━━━━━━━━\u001b[0m\u001b[37m\u001b[0m \u001b[1m80s\u001b[0m 8ms/step - loss: 0.1642 - mae: 0.4334 - mse: 0.3611 - val_loss: 0.1640 - val_mae: 0.4327 - val_mse: 0.3613\n",
            "Epoch 4/50\n",
            "\u001b[1m5337/5337\u001b[0m \u001b[32m━━━━━━━━━━━━━━━━━━━━\u001b[0m\u001b[37m\u001b[0m \u001b[1m83s\u001b[0m 8ms/step - loss: 0.1610 - mae: 0.4289 - mse: 0.3536 - val_loss: 0.1668 - val_mae: 0.4342 - val_mse: 0.3670\n",
            "Epoch 5/50\n",
            "\u001b[1m5337/5337\u001b[0m \u001b[32m━━━━━━━━━━━━━━━━━━━━\u001b[0m\u001b[37m\u001b[0m \u001b[1m82s\u001b[0m 8ms/step - loss: 0.1586 - mae: 0.4236 - mse: 0.3493 - val_loss: 0.1618 - val_mae: 0.4272 - val_mse: 0.3561\n",
            "Epoch 6/50\n",
            "\u001b[1m5337/5337\u001b[0m \u001b[32m━━━━━━━━━━━━━━━━━━━━\u001b[0m\u001b[37m\u001b[0m \u001b[1m44s\u001b[0m 8ms/step - loss: 0.1563 - mae: 0.4212 - mse: 0.3423 - val_loss: 0.1632 - val_mae: 0.4273 - val_mse: 0.3597\n",
            "Epoch 7/50\n",
            "\u001b[1m5337/5337\u001b[0m \u001b[32m━━━━━━━━━━━━━━━━━━━━\u001b[0m\u001b[37m\u001b[0m \u001b[1m82s\u001b[0m 8ms/step - loss: 0.1546 - mae: 0.4185 - mse: 0.3390 - val_loss: 0.1606 - val_mae: 0.4294 - val_mse: 0.3531\n",
            "Epoch 8/50\n",
            "\u001b[1m5337/5337\u001b[0m \u001b[32m━━━━━━━━━━━━━━━━━━━━\u001b[0m\u001b[37m\u001b[0m \u001b[1m83s\u001b[0m 8ms/step - loss: 0.1547 - mae: 0.4176 - mse: 0.3402 - val_loss: 0.1615 - val_mae: 0.4310 - val_mse: 0.3547\n",
            "Epoch 9/50\n",
            "\u001b[1m5337/5337\u001b[0m \u001b[32m━━━━━━━━━━━━━━━━━━━━\u001b[0m\u001b[37m\u001b[0m \u001b[1m81s\u001b[0m 8ms/step - loss: 0.1541 - mae: 0.4170 - mse: 0.3386 - val_loss: 0.1606 - val_mae: 0.4250 - val_mse: 0.3540\n",
            "Epoch 10/50\n",
            "\u001b[1m5337/5337\u001b[0m \u001b[32m━━━━━━━━━━━━━━━━━━━━\u001b[0m\u001b[37m\u001b[0m \u001b[1m82s\u001b[0m 8ms/step - loss: 0.1510 - mae: 0.4123 - mse: 0.3309 - val_loss: 0.1603 - val_mae: 0.4259 - val_mse: 0.3524\n",
            "Epoch 11/50\n",
            "\u001b[1m5337/5337\u001b[0m \u001b[32m━━━━━━━━━━━━━━━━━━━━\u001b[0m\u001b[37m\u001b[0m \u001b[1m79s\u001b[0m 8ms/step - loss: 0.1500 - mae: 0.4110 - mse: 0.3286 - val_loss: 0.1604 - val_mae: 0.4228 - val_mse: 0.3530\n",
            "Epoch 12/50\n",
            "\u001b[1m5337/5337\u001b[0m \u001b[32m━━━━━━━━━━━━━━━━━━━━\u001b[0m\u001b[37m\u001b[0m \u001b[1m84s\u001b[0m 8ms/step - loss: 0.1507 - mae: 0.4111 - mse: 0.3302 - val_loss: 0.1630 - val_mae: 0.4304 - val_mse: 0.3589\n",
            "Epoch 13/50\n",
            "\u001b[1m5337/5337\u001b[0m \u001b[32m━━━━━━━━━━━━━━━━━━━━\u001b[0m\u001b[37m\u001b[0m \u001b[1m81s\u001b[0m 8ms/step - loss: 0.1476 - mae: 0.4065 - mse: 0.3235 - val_loss: 0.1604 - val_mae: 0.4283 - val_mse: 0.3519\n",
            "Epoch 14/50\n",
            "\u001b[1m5337/5337\u001b[0m \u001b[32m━━━━━━━━━━━━━━━━━━━━\u001b[0m\u001b[37m\u001b[0m \u001b[1m82s\u001b[0m 8ms/step - loss: 0.1471 - mae: 0.4066 - mse: 0.3222 - val_loss: 0.1604 - val_mae: 0.4236 - val_mse: 0.3536\n",
            "Epoch 15/50\n",
            "\u001b[1m5337/5337\u001b[0m \u001b[32m━━━━━━━━━━━━━━━━━━━━\u001b[0m\u001b[37m\u001b[0m \u001b[1m81s\u001b[0m 8ms/step - loss: 0.1472 - mae: 0.4069 - mse: 0.3217 - val_loss: 0.1589 - val_mae: 0.4214 - val_mse: 0.3509\n",
            "Epoch 16/50\n",
            "\u001b[1m5337/5337\u001b[0m \u001b[32m━━━━━━━━━━━━━━━━━━━━\u001b[0m\u001b[37m\u001b[0m \u001b[1m83s\u001b[0m 8ms/step - loss: 0.1448 - mae: 0.4034 - mse: 0.3157 - val_loss: 0.1636 - val_mae: 0.4241 - val_mse: 0.3641\n",
            "Epoch 17/50\n",
            "\u001b[1m5337/5337\u001b[0m \u001b[32m━━━━━━━━━━━━━━━━━━━━\u001b[0m\u001b[37m\u001b[0m \u001b[1m47s\u001b[0m 9ms/step - loss: 0.1444 - mae: 0.4023 - mse: 0.3151 - val_loss: 0.1601 - val_mae: 0.4269 - val_mse: 0.3525\n",
            "Epoch 18/50\n",
            "\u001b[1m5337/5337\u001b[0m \u001b[32m━━━━━━━━━━━━━━━━━━━━\u001b[0m\u001b[37m\u001b[0m \u001b[1m77s\u001b[0m 8ms/step - loss: 0.1433 - mae: 0.4007 - mse: 0.3122 - val_loss: 0.1592 - val_mae: 0.4221 - val_mse: 0.3510\n",
            "Epoch 19/50\n",
            "\u001b[1m5337/5337\u001b[0m \u001b[32m━━━━━━━━━━━━━━━━━━━━\u001b[0m\u001b[37m\u001b[0m \u001b[1m83s\u001b[0m 8ms/step - loss: 0.1432 - mae: 0.4002 - mse: 0.3130 - val_loss: 0.1611 - val_mae: 0.4291 - val_mse: 0.3537\n",
            "Epoch 20/50\n",
            "\u001b[1m5337/5337\u001b[0m \u001b[32m━━━━━━━━━━━━━━━━━━━━\u001b[0m\u001b[37m\u001b[0m \u001b[1m83s\u001b[0m 8ms/step - loss: 0.1417 - mae: 0.3985 - mse: 0.3093 - val_loss: 0.1586 - val_mae: 0.4221 - val_mse: 0.3495\n",
            "Epoch 21/50\n",
            "\u001b[1m5337/5337\u001b[0m \u001b[32m━━━━━━━━━━━━━━━━━━━━\u001b[0m\u001b[37m\u001b[0m \u001b[1m44s\u001b[0m 8ms/step - loss: 0.1427 - mae: 0.3992 - mse: 0.3119 - val_loss: 0.1594 - val_mae: 0.4236 - val_mse: 0.3511\n",
            "Epoch 22/50\n",
            "\u001b[1m5337/5337\u001b[0m \u001b[32m━━━━━━━━━━━━━━━━━━━━\u001b[0m\u001b[37m\u001b[0m \u001b[1m83s\u001b[0m 8ms/step - loss: 0.1420 - mae: 0.3985 - mse: 0.3104 - val_loss: 0.1621 - val_mae: 0.4212 - val_mse: 0.3605\n",
            "Epoch 23/50\n",
            "\u001b[1m5337/5337\u001b[0m \u001b[32m━━━━━━━━━━━━━━━━━━━━\u001b[0m\u001b[37m\u001b[0m \u001b[1m79s\u001b[0m 8ms/step - loss: 0.1409 - mae: 0.3964 - mse: 0.3085 - val_loss: 0.1596 - val_mae: 0.4210 - val_mse: 0.3529\n",
            "Epoch 24/50\n",
            "\u001b[1m5337/5337\u001b[0m \u001b[32m━━━━━━━━━━━━━━━━━━━━\u001b[0m\u001b[37m\u001b[0m \u001b[1m83s\u001b[0m 8ms/step - loss: 0.1392 - mae: 0.3940 - mse: 0.3037 - val_loss: 0.1611 - val_mae: 0.4227 - val_mse: 0.3557\n",
            "Epoch 25/50\n",
            "\u001b[1m5337/5337\u001b[0m \u001b[32m━━━━━━━━━━━━━━━━━━━━\u001b[0m\u001b[37m\u001b[0m \u001b[1m44s\u001b[0m 8ms/step - loss: 0.1385 - mae: 0.3928 - mse: 0.3014 - val_loss: 0.1597 - val_mae: 0.4213 - val_mse: 0.3527\n",
            "Epoch 26/50\n",
            "\u001b[1m5337/5337\u001b[0m \u001b[32m━━━━━━━━━━━━━━━━━━━━\u001b[0m\u001b[37m\u001b[0m \u001b[1m82s\u001b[0m 8ms/step - loss: 0.1403 - mae: 0.3964 - mse: 0.3056 - val_loss: 0.1616 - val_mae: 0.4218 - val_mse: 0.3579\n",
            "Epoch 27/50\n",
            "\u001b[1m5337/5337\u001b[0m \u001b[32m━━━━━━━━━━━━━━━━━━━━\u001b[0m\u001b[37m\u001b[0m \u001b[1m80s\u001b[0m 8ms/step - loss: 0.1374 - mae: 0.3914 - mse: 0.2990 - val_loss: 0.1595 - val_mae: 0.4212 - val_mse: 0.3530\n",
            "Epoch 28/50\n",
            "\u001b[1m5337/5337\u001b[0m \u001b[32m━━━━━━━━━━━━━━━━━━━━\u001b[0m\u001b[37m\u001b[0m \u001b[1m43s\u001b[0m 8ms/step - loss: 0.1388 - mae: 0.3940 - mse: 0.3027 - val_loss: 0.1592 - val_mae: 0.4227 - val_mse: 0.3521\n",
            "Epoch 29/50\n",
            "\u001b[1m5337/5337\u001b[0m \u001b[32m━━━━━━━━━━━━━━━━━━━━\u001b[0m\u001b[37m\u001b[0m \u001b[1m82s\u001b[0m 8ms/step - loss: 0.1366 - mae: 0.3900 - mse: 0.2972 - val_loss: 0.1596 - val_mae: 0.4241 - val_mse: 0.3510\n",
            "Epoch 30/50\n",
            "\u001b[1m5337/5337\u001b[0m \u001b[32m━━━━━━━━━━━━━━━━━━━━\u001b[0m\u001b[37m\u001b[0m \u001b[1m82s\u001b[0m 8ms/step - loss: 0.1357 - mae: 0.3895 - mse: 0.2947 - val_loss: 0.1589 - val_mae: 0.4204 - val_mse: 0.3509\n"
          ]
        }
      ],
      "source": [
        "model = Sequential([\n",
        "    Input(shape=(X_train_scaled.shape[1],)),  # Inputlaag\n",
        "    Dense(512, activation='relu'),           # Verborgen laag 1\n",
        "    Dropout(0.3),                            # Dropout\n",
        "    Dense(256, activation='relu'),           # Verborgen laag 2\n",
        "    Dropout(0.2),                            # Dropout\n",
        "    Dense(128, activation='relu'),           # Verborgen laag 3\n",
        "    Dense(64, activation='relu'),            # Verborgen laag 4\n",
        "    Dense(32, activation='relu'),            # Verborgen laag 5\n",
        "    Dense(1)                                 # Outputlaag (regressie)\n",
        "])\n",
        "\n",
        "\n",
        "# Compile het model\n",
        "model.compile(optimizer=Adam(learning_rate=0.001), loss=Huber(), metrics=['mae', 'mse'])\n",
        "\n",
        "# 3. Early Stopping Callback\n",
        "early_stopping = EarlyStopping(monitor='val_loss', patience=10, restore_best_weights=True)\n",
        "\n",
        "# 4. Train het model\n",
        "history = model.fit(\n",
        "    X_train_scaled, y_train_log,\n",
        "    validation_data=(X_test_scaled, y_test_log),  # Gebruik testdata voor validatie\n",
        "    epochs=50, batch_size=32, callbacks=[early_stopping], verbose=1\n",
        ")"
      ]
    },
    {
      "cell_type": "code",
      "execution_count": 32,
      "id": "aCzSCh6pD3k_",
      "metadata": {
        "colab": {
          "base_uri": "https://localhost:8080/"
        },
        "id": "aCzSCh6pD3k_",
        "outputId": "fa5bc481-be91-40f0-f455-56bf470a2457"
      },
      "outputs": [
        {
          "output_type": "stream",
          "name": "stdout",
          "text": [
            "\u001b[1m1335/1335\u001b[0m \u001b[32m━━━━━━━━━━━━━━━━━━━━\u001b[0m\u001b[37m\u001b[0m \u001b[1m4s\u001b[0m 3ms/step\n",
            "RMSE op originele schaal: 46.638609437737\n",
            "R²-score: 0.25326586321361333\n"
          ]
        }
      ],
      "source": [
        "# 7. Maak voorspellingen\n",
        "y_pred_log = model.predict(X_test_scaled)  # Voorspellingen op log-schaal\n",
        "y_pred = np.expm1(y_pred_log)              # Inverse log-transformatie\n",
        "y_test_original = np.expm1(y_test_log)     # Inverse log-transformatie van testdoelvariabele\n",
        "\n",
        "# 8. Evaluatie van de resultaten\n",
        "# Bereken RMSE en R² op originele schaal\n",
        "rmse = sqrt(mean_squared_error(y_test_original, y_pred))\n",
        "r2 = r2_score(y_test_original, y_pred)\n",
        "\n",
        "print(f\"RMSE op originele schaal: {rmse}\")\n",
        "print(f\"R²-score: {r2}\")"
      ]
    },
    {
      "cell_type": "code",
      "execution_count": 34,
      "id": "V0pTNlhhLK95",
      "metadata": {
        "colab": {
          "base_uri": "https://localhost:8080/",
          "height": 772
        },
        "id": "V0pTNlhhLK95",
        "outputId": "e4875587-9dc0-4cb2-e6c3-db72607570cd"
      },
      "outputs": [
        {
          "output_type": "stream",
          "name": "stdout",
          "text": [
            "Top-10 belangrijkste features:\n",
            "                 Feature  Importance\n",
            "176   subsections_labels    0.237262\n",
            "3             author_ids    0.127553\n",
            "0                  brand    0.024205\n",
            "5                   date    0.020756\n",
            "4           main_section    0.019999\n",
            "21               help_me    0.016088\n",
            "35                 sport    0.014475\n",
            "24            vermaak_me    0.014232\n",
            "23   hou_me_op_de_hoogte    0.013441\n",
            "55        human_interest    0.013092\n"
          ]
        },
        {
          "output_type": "display_data",
          "data": {
            "text/plain": [
              "<Figure size 1000x600 with 1 Axes>"
            ],
            "image/png": "[encoded data removed]"
          },
          "metadata": {}
        }
      ],
      "source": [
        "# Importeer benodigde libraries\n",
        "from sklearn.ensemble import RandomForestRegressor\n",
        "from sklearn.preprocessing import StandardScaler\n",
        "import pandas as pd\n",
        "import matplotlib.pyplot as plt\n",
        "\n",
        "# 1. Laad de trainingsdata\n",
        "X_train = pd.read_csv('alle_kranten_X_train.csv')  # Trainingskenmerken\n",
        "y_train = pd.read_csv('alle_kranten_y_train.csv')  # Trainingsdoelvariabele\n",
        "\n",
        "# 2. Schaal de kenmerken\n",
        "scaler = StandardScaler()\n",
        "X_train_scaled = scaler.fit_transform(X_train)\n",
        "\n",
        "# 3. Train een Random Forest Regressor\n",
        "rf_model = RandomForestRegressor(n_estimators=100, random_state=42)\n",
        "rf_model.fit(X_train_scaled, y_train.values.ravel())  # Train het model\n",
        "\n",
        "# 4. Bereken feature importances\n",
        "feature_importances = rf_model.feature_importances_\n",
        "feature_names = X_train.columns\n",
        "\n",
        "# Combineer de feature-importances met de namen\n",
        "importance_df = pd.DataFrame({\n",
        "    'Feature': feature_names,\n",
        "    'Importance': feature_importances\n",
        "}).sort_values(by='Importance', ascending=False)\n",
        "\n",
        "# 5. Print de top-10 belangrijkste features\n",
        "print(\"Top-10 belangrijkste features:\")\n",
        "print(importance_df.head(10))\n",
        "\n",
        "# 6. Visualiseer de top-10 belangrijkste features\n",
        "top_features = importance_df.head(10)\n",
        "plt.figure(figsize=(10, 6))\n",
        "plt.barh(top_features['Feature'], top_features['Importance'], color='skyblue')\n",
        "plt.xlabel('Belang')\n",
        "plt.ylabel('Feature')\n",
        "plt.title('Top-10 Belangrijkste Features')\n",
        "plt.gca().invert_yaxis()  # Draai de y-as zodat de belangrijkste bovenaan staat\n",
        "plt.show()\n"
      ]
    },
    {
      "cell_type": "code",
      "execution_count": null,
      "id": "A1ZODWzCLVUx",
      "metadata": {
        "id": "A1ZODWzCLVUx"
      },
      "outputs": [],
      "source": []
    }
  ],
  "metadata": {
    "colab": {
      "provenance": []
    },
    "kernelspec": {
      "display_name": "Python 3",
      "name": "python3"
    },
    "language_info": {
      "name": "python"
    }
  },
  "nbformat": 4,
  "nbformat_minor": 5
}